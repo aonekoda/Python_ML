{
  "nbformat": 4,
  "nbformat_minor": 0,
  "metadata": {
    "colab": {
      "name": "데이터전처리_실습.ipynb",
      "provenance": [],
      "collapsed_sections": [],
      "toc_visible": true,
      "mount_file_id": "1CGyodkC4F5Lf6xvi6MRpOhp7rmrySdAZ",
      "authorship_tag": "ABX9TyOwUm8TlKWRGE4lsO9xMiLu"
    },
    "kernelspec": {
      "name": "python3",
      "display_name": "Python 3"
    }
  },
  "cells": [
    {
      "cell_type": "markdown",
      "metadata": {
        "id": "HfoJcGcsttAi",
        "colab_type": "text"
      },
      "source": [
        "# 데이터 전처리 실습\n",
        "\n",
        "타이타닉 데이터셋으로 데이터 전처리를 실습해 보자.\n",
        "* 결측치 처리하기\n",
        "* 데이터 스케일 조정\n",
        "* 범주형 데이터 처리하기"
      ]
    },
    {
      "cell_type": "markdown",
      "metadata": {
        "id": "t9cgGrRtubZR",
        "colab_type": "text"
      },
      "source": [
        "1, 타이타닉 데이터 셋을 읽어 들인다. \n",
        "```\n",
        "import pandas as pd\n",
        "\n",
        "titanic = pd.read_csv('../data/titanic.csv')\n",
        "titanic.head()\n",
        "```"
      ]
    },
    {
      "cell_type": "code",
      "metadata": {
        "id": "iK0B4GO01bHR",
        "colab_type": "code",
        "colab": {}
      },
      "source": [
        ""
      ],
      "execution_count": null,
      "outputs": []
    },
    {
      "cell_type": "markdown",
      "metadata": {
        "id": "dT79rhPSvMk1",
        "colab_type": "text"
      },
      "source": [
        "2. 'Age' 컬럼의 결측치가 총 몇 건인가?"
      ]
    },
    {
      "cell_type": "code",
      "metadata": {
        "id": "4_CuuxT81c6o",
        "colab_type": "code",
        "colab": {}
      },
      "source": [
        ""
      ],
      "execution_count": null,
      "outputs": []
    },
    {
      "cell_type": "markdown",
      "metadata": {
        "id": "kMHkN9S6vhLN",
        "colab_type": "text"
      },
      "source": [
        "3. 'Age'컬럼의 결측치를 중위수(median)으로 대체하시오."
      ]
    },
    {
      "cell_type": "code",
      "metadata": {
        "id": "LJgM2EGo1flF",
        "colab_type": "code",
        "colab": {}
      },
      "source": [
        ""
      ],
      "execution_count": null,
      "outputs": []
    },
    {
      "cell_type": "markdown",
      "metadata": {
        "id": "MCqCL-xuxvG0",
        "colab_type": "text"
      },
      "source": [
        "4. 'Fare' 컬럼을 StandardScaler()로 스케일을 조정하시오."
      ]
    },
    {
      "cell_type": "code",
      "metadata": {
        "id": "ftJTidto1hYD",
        "colab_type": "code",
        "colab": {}
      },
      "source": [
        ""
      ],
      "execution_count": null,
      "outputs": []
    },
    {
      "cell_type": "markdown",
      "metadata": {
        "id": "BFSINOkEzC-P",
        "colab_type": "text"
      },
      "source": [
        "5. 'Embarked' 컬럼을 원-핫 인코딩으로 변환해 보시오. (hint. pd.get_dummies)"
      ]
    },
    {
      "cell_type": "code",
      "metadata": {
        "id": "-YFIXJSl0kJR",
        "colab_type": "code",
        "colab": {}
      },
      "source": [
        ""
      ],
      "execution_count": null,
      "outputs": []
    }
  ]
}